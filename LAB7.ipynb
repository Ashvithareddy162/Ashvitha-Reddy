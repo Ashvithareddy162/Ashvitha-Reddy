{
 "cells": [
  {
   "cell_type": "code",
   "execution_count": 1,
   "id": "fbf2aff6-cc55-42bf-810e-82f838bb5dee",
   "metadata": {},
   "outputs": [
    {
     "name": "stdout",
     "output_type": "stream",
     "text": [
      "1 2 3 \n",
      "1 3 2 \n",
      "2 1 3 \n",
      "2 3 1 \n",
      "3 1 2 \n",
      "3 2 1 \n"
     ]
    }
   ],
   "source": [
    "from itertools import permutations\n",
    "lst = [1, 2, 3]\n",
    "perms = list(permutations(lst))\n",
    "for perm in perms:\n",
    "    for item in perm:\n",
    "        print(item, end=' ')\n",
    "    print()\n"
   ]
  },
  {
   "cell_type": "code",
   "execution_count": 3,
   "id": "48cb22ca-9bda-4a3e-b13a-8497d826e5ea",
   "metadata": {},
   "outputs": [
    {
     "name": "stdout",
     "output_type": "stream",
     "text": [
      " 1  2  3  4  5 \n",
      " 2  4  6  8 10 \n",
      " 3  6  9 12 15 \n",
      " 4  8 12 16 20 \n",
      " 5 10 15 20 25 \n"
     ]
    }
   ],
   "source": [
    "N = 5\n",
    "for i in range(1, N+1):\n",
    "    for j in range(1, N+1):\n",
    "        print(f\"{i*j:2}\", end=\" \")\n",
    "    print()\n"
   ]
  },
  {
   "cell_type": "code",
   "execution_count": 5,
   "id": "5eacb351-ae97-42d3-a5ec-cf742129330a",
   "metadata": {},
   "outputs": [
    {
     "name": "stdout",
     "output_type": "stream",
     "text": [
      "Prime factors of 60: [2, 2, 3, 5]\n",
      "Prime factors of 75: [3, 5, 5]\n",
      "Prime factors of 90: [2, 3, 3, 5]\n"
     ]
    }
   ],
   "source": [
    "def prime_factors(num):\n",
    "    factors = []\n",
    "    i = 2\n",
    "    while i * i <= num:\n",
    "        if num % i:\n",
    "            i += 1\n",
    "        else:\n",
    "            num //= i\n",
    "            factors.append(i)\n",
    "    if num > 1:\n",
    "        factors.append(num)\n",
    "    return factors\n",
    "\n",
    "numbers = [60, 75, 90]\n",
    "for num in numbers:\n",
    "    print(f\"Prime factors of {num}: {prime_factors(num)}\")\n"
   ]
  },
  {
   "cell_type": "code",
   "execution_count": 7,
   "id": "445e497a-3f85-4c05-8243-f45a4530247e",
   "metadata": {},
   "outputs": [
    {
     "name": "stdout",
     "output_type": "stream",
     "text": [
      "W B W B W B W B \n",
      "B W B W B W B W \n",
      "W B W B W B W B \n",
      "B W B W B W B W \n",
      "W B W B W B W B \n",
      "B W B W B W B W \n",
      "W B W B W B W B \n",
      "B W B W B W B W \n"
     ]
    }
   ],
   "source": [
    "size = 8\n",
    "for row in range(size):\n",
    "    for col in range(size):\n",
    "        if (row + col) % 2 == 0:\n",
    "            print('W', end=' ')\n",
    "        else:\n",
    "            print('B', end=' ')\n",
    "    print()\n"
   ]
  },
  {
   "cell_type": "code",
   "execution_count": null,
   "id": "0a42e656-0d81-4e8b-9e84-410fe4767d17",
   "metadata": {},
   "outputs": [],
   "source": []
  }
 ],
 "metadata": {
  "kernelspec": {
   "display_name": "Python 3 (ipykernel)",
   "language": "python",
   "name": "python3"
  },
  "language_info": {
   "codemirror_mode": {
    "name": "ipython",
    "version": 3
   },
   "file_extension": ".py",
   "mimetype": "text/x-python",
   "name": "python",
   "nbconvert_exporter": "python",
   "pygments_lexer": "ipython3",
   "version": "3.12.4"
  }
 },
 "nbformat": 4,
 "nbformat_minor": 5
}
