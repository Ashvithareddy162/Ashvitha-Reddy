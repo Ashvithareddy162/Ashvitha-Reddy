{
 "cells": [
  {
   "cell_type": "code",
   "execution_count": 1,
   "id": "9de6bb0f-0f67-4c30-b4c2-399ecc58effa",
   "metadata": {},
   "outputs": [
    {
     "name": "stdout",
     "output_type": "stream",
     "text": [
      "hi\n"
     ]
    }
   ],
   "source": [
    "print(\"hi\")"
   ]
  },
  {
   "cell_type": "code",
   "execution_count": 19,
   "id": "6f47517b-cc80-4755-811a-5ba77b762966",
   "metadata": {},
   "outputs": [
    {
     "name": "stdout",
     "output_type": "stream",
     "text": [
      "[[3, 10], [8, 11]]\n"
     ]
    }
   ],
   "source": [
    "'Addition of 2 matrices'\n",
    "A=[[2,1],[3,4]]\n",
    "B=[[1,9],[5,7]]\n",
    "r=[[0,0],[0,0]]\n",
    "for i in range(len(A)):\n",
    "    for j in range(len(A[0])):\n",
    "            r[i][j]=A[i][j] + B[i][j]\n",
    "print(r)\n"
   ]
  },
  {
   "cell_type": "code",
   "execution_count": 23,
   "id": "58b8eda2-e617-44b6-872a-4a5f17f98f31",
   "metadata": {},
   "outputs": [
    {
     "name": "stdout",
     "output_type": "stream",
     "text": [
      "[[10, 5]]\n"
     ]
    }
   ],
   "source": [
    "'Scalar multiplication of matrix'\n",
    "A=[[2,1]]\n",
    "r=5\n",
    "for i in range(len(A)):\n",
    "    for j in range(len(A[0])):\n",
    "        A[i][j]=r*A[i][j]\n",
    "print(A)"
   ]
  },
  {
   "cell_type": "code",
   "execution_count": 25,
   "id": "3e4db217-9f76-404d-be33-eb5a4697a7f7",
   "metadata": {},
   "outputs": [
    {
     "name": "stdout",
     "output_type": "stream",
     "text": [
      "[[2, 3], [1, 4]]\n"
     ]
    }
   ],
   "source": [
    "'Transpose of a matrix'\n",
    "A=[[2,1],[3,4]]\n",
    "T=[[0,0],[0,0]]\n",
    "for i in range(len(A)):\n",
    "    for j in range(len(A[0])):\n",
    "        T[i][j]=A[j][i]\n",
    "print(T)"
   ]
  },
  {
   "cell_type": "code",
   "execution_count": 27,
   "id": "1fd481da-be08-47db-aa7d-c1f824bbddd8",
   "metadata": {},
   "outputs": [
    {
     "name": "stdout",
     "output_type": "stream",
     "text": [
      "[[2], [1]]\n"
     ]
    }
   ],
   "source": [
    "'Transpose of 1by2 matrix'\n",
    "A=[[2,1]]\n",
    "T=[[0],[0]]\n",
    "for i in range(len(A[0])):\n",
    "    for j in range(len(A)):\n",
    "        T[i][j]=A[j][i]\n",
    "print(T)"
   ]
  },
  {
   "cell_type": "code",
   "execution_count": 2,
   "id": "c48021cf-9412-463c-a643-01d03896f120",
   "metadata": {},
   "outputs": [
    {
     "name": "stdout",
     "output_type": "stream",
     "text": [
      "[8, 8, 4]\n",
      "[4, 6, 5]\n",
      "[2, 3, 2]\n"
     ]
    }
   ],
   "source": [
    "import random\n",
    "rows=3\n",
    "cols=3\n",
    "matrix=[]\n",
    "for i in range(rows):\n",
    "    row=[]\n",
    "    for j in range(cols):\n",
    "        row.append(random.randint(1,10))\n",
    "    matrix.append(row)\n",
    "for row in matrix:\n",
    "    print(row)"
   ]
  },
  {
   "cell_type": "code",
   "execution_count": 4,
   "id": "160a2f24-509d-438d-acad-237e1c9647cf",
   "metadata": {},
   "outputs": [
    {
     "name": "stdout",
     "output_type": "stream",
     "text": [
      "[10, 10, 10]\n",
      "[10, 10, 10]\n",
      "[11, 11, 11]\n"
     ]
    }
   ],
   "source": [
    "matrix1=[[1,2,3],[4,5,6],[7,8,9]]\n",
    "matrix2=[[9,8,7],[6,5,4],[4,3,2]]\n",
    "result=[[0,0,0],[0,0,0],[0,0,0]]\n",
    "for i in range(len(matrix1)):\n",
    "    for j in range(len(matrix1[0])):\n",
    "        result[i][j]=matrix1[i][j]+matrix2[i][j]\n",
    "for row in result:\n",
    "    print(row)"
   ]
  },
  {
   "cell_type": "code",
   "execution_count": 6,
   "id": "585966b1-0e20-4919-a9be-e6c0105345e0",
   "metadata": {},
   "outputs": [
    {
     "name": "stdout",
     "output_type": "stream",
     "text": [
      "primary= 78\n",
      "secondary= 79\n"
     ]
    }
   ],
   "source": [
    "matrix=[[9,8,12],[6,67,4],[0,3,2]]\n",
    "primary_diag_sum=0\n",
    "secondary_diag_sum=0\n",
    "for i in range(len(matrix)):\n",
    "    primary_diag_sum+=matrix[i][i]\n",
    "    secondary_diag_sum+=matrix[i][len(matrix)-1-i]\n",
    "print(\"primary=\",primary_diag_sum)\n",
    "print(\"secondary=\",secondary_diag_sum)"
   ]
  },
  {
   "cell_type": "code",
   "execution_count": 8,
   "id": "cb9ae1e0-d479-4c7e-b596-937b6278be94",
   "metadata": {},
   "outputs": [
    {
     "name": "stdout",
     "output_type": "stream",
     "text": [
      "[0, 0, 0]\n",
      "[0, 0, 0]\n",
      "[0, 0, 0]\n"
     ]
    }
   ],
   "source": [
    "rows=3\n",
    "cols=3\n",
    "matrix=[]\n",
    "for i in range(rows):\n",
    "        row=[]\n",
    "        for j in range(cols):\n",
    "           row.append(0)\n",
    "        matrix.append(row)\n",
    "for row in matrix:\n",
    "    print(row)"
   ]
  },
  {
   "cell_type": "code",
   "execution_count": null,
   "id": "918519c0-a198-4058-820e-401be8475be8",
   "metadata": {},
   "outputs": [],
   "source": []
  }
 ],
 "metadata": {
  "kernelspec": {
   "display_name": "Python 3 (ipykernel)",
   "language": "python",
   "name": "python3"
  },
  "language_info": {
   "codemirror_mode": {
    "name": "ipython",
    "version": 3
   },
   "file_extension": ".py",
   "mimetype": "text/x-python",
   "name": "python",
   "nbconvert_exporter": "python",
   "pygments_lexer": "ipython3",
   "version": "3.12.4"
  }
 },
 "nbformat": 4,
 "nbformat_minor": 5
}
