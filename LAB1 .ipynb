{
 "cells": [
  {
   "cell_type": "code",
   "execution_count": 5,
   "id": "6303b379-aef6-438d-806e-679de321419b",
   "metadata": {},
   "outputs": [
    {
     "name": "stdin",
     "output_type": "stream",
     "text": [
      "Enter a num1: 12\n",
      "Enter a num2: 33\n"
     ]
    },
    {
     "name": "stdout",
     "output_type": "stream",
     "text": [
      "Addition of 12 and 33 is: 45\n",
      "Subtraction of 12 from 33 is: -21\n",
      "Multiplication of 12 and 33 is: 396\n",
      "Division of 12 by 33 is: 0.36363636363636365\n"
     ]
    }
   ],
   "source": [
    "num1=int(input(\"Enter a num1:\"))\n",
    "num2=int(input(\"Enter a num2:\"))\n",
    "addition=num1+num2\n",
    "print(f\"Addition of {num1} and {num2} is: {addition}\")\n",
    "subtraction = num1 - num2\n",
    "print(f\"Subtraction of {num1} from {num2} is: {subtraction}\")\n",
    "multiplication = num1 * num2\n",
    "print(f\"Multiplication of {num1} and {num2} is: {multiplication}\")\n",
    "if num2 != 0:\n",
    "    division = num1 / num2\n",
    "    print(f\"Division of {num1} by {num2} is: {division}\")\n",
    "else:\n",
    "    print(\"Division by zero is undefined.\")\n"
   ]
  },
  {
   "cell_type": "code",
   "execution_count": 15,
   "id": "73faf021-bbb8-4b71-85bd-3fb78c787516",
   "metadata": {},
   "outputs": [
    {
     "name": "stdin",
     "output_type": "stream",
     "text": [
      "Enter a num1: 23\n",
      "Enter a num2: 44\n",
      "Enter a num2: 55\n"
     ]
    },
    {
     "name": "stdout",
     "output_type": "stream",
     "text": [
      "Addition of 23, 44, and 55 is: 122\n"
     ]
    }
   ],
   "source": [
    "num1=int(input(\"Enter a num1:\"))\n",
    "num2=int(input(\"Enter a num2:\"))\n",
    "num3=int(input(\"Enter a num2:\"))\n",
    "addition = num1 + num2 + num3\n",
    "print(f\"Addition of {num1}, {num2}, and {num3} is: {addition}\")\n"
   ]
  },
  {
   "cell_type": "code",
   "execution_count": 11,
   "id": "ec3c168a-1fab-43df-92ed-367babc20db4",
   "metadata": {},
   "outputs": [
    {
     "name": "stdin",
     "output_type": "stream",
     "text": [
      "Enter a num: 23\n"
     ]
    },
    {
     "name": "stdout",
     "output_type": "stream",
     "text": [
      "Area of the square with side length 23 is: 529\n"
     ]
    }
   ],
   "source": [
    "side_length =int(input(\"Enter a num:\"))\n",
    "area = side_length ** 2\n",
    "print(f\"Area of the square with side length {side_length} is: {area}\")\n"
   ]
  },
  {
   "cell_type": "code",
   "execution_count": 24,
   "id": "3f466fcc-d229-43ed-a706-56a80e249e2f",
   "metadata": {},
   "outputs": [
    {
     "name": "stdin",
     "output_type": "stream",
     "text": [
      "Enter a num: 12\n",
      "Enter a num: 22\n"
     ]
    },
    {
     "name": "stdout",
     "output_type": "stream",
     "text": [
      "Area of the rectangle with length 12 and width 22 is: 264\n"
     ]
    }
   ],
   "source": [
    "length = int(input(\"Enter a num:\"))\n",
    "width = int(input(\"Enter a num:\"))\n",
    "area = length * width\n",
    "print(f\"Area of the rectangle with length {length} and width {width} is: {area}\")\n"
   ]
  },
  {
   "cell_type": "code",
   "execution_count": null,
   "id": "14edba6b-eb00-4c34-a9ea-330234a979a9",
   "metadata": {},
   "outputs": [],
   "source": []
  },
  {
   "cell_type": "code",
   "execution_count": null,
   "id": "4736e0f6-436c-4607-96b1-2d545f6f9e92",
   "metadata": {},
   "outputs": [],
   "source": []
  }
 ],
 "metadata": {
  "kernelspec": {
   "display_name": "Python 3 (ipykernel)",
   "language": "python",
   "name": "python3"
  },
  "language_info": {
   "codemirror_mode": {
    "name": "ipython",
    "version": 3
   },
   "file_extension": ".py",
   "mimetype": "text/x-python",
   "name": "python",
   "nbconvert_exporter": "python",
   "pygments_lexer": "ipython3",
   "version": "3.12.4"
  }
 },
 "nbformat": 4,
 "nbformat_minor": 5
}
