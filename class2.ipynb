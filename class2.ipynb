{
 "cells": [
  {
   "cell_type": "code",
   "execution_count": 1,
   "id": "8c2519e6-2056-4f6d-8446-c016d14bc380",
   "metadata": {},
   "outputs": [
    {
     "name": "stdout",
     "output_type": "stream",
     "text": [
      "3\n"
     ]
    }
   ],
   "source": [
    "string=\"programming\"\n",
    "vowel=\"AEIOUaeiou\"\n",
    "count=sum(1 for char in string if char in vowel)\n",
    "print(count)"
   ]
  },
  {
   "cell_type": "code",
   "execution_count": 5,
   "id": "b422b3f4-60cf-4e2e-bd1f-7e6c2ff58ed7",
   "metadata": {},
   "outputs": [
    {
     "name": "stdin",
     "output_type": "stream",
     "text": [
      "ENTER A NAME: ASHVITHA REDDY\n"
     ]
    },
    {
     "name": "stdout",
     "output_type": "stream",
     "text": [
      "4\n"
     ]
    }
   ],
   "source": [
    "string=input(\"ENTER A NAME:\")\n",
    "vowel=\"AEIOUaeiou\"\n",
    "count=sum(1 for char in string if char in vowel)\n",
    "print(count)"
   ]
  },
  {
   "cell_type": "code",
   "execution_count": 9,
   "id": "1eb79458-5012-4dca-987f-afe02412408c",
   "metadata": {},
   "outputs": [
    {
     "name": "stdin",
     "output_type": "stream",
     "text": [
      "Enter a name:  ASHVITHA\n"
     ]
    },
    {
     "name": "stdout",
     "output_type": "stream",
     "text": [
      "The vowels present are: I, A\n"
     ]
    }
   ],
   "source": [
    "\n",
    "string = input(\"Enter a name: \")\n",
    "vowels = \"AEIOUaeiou\"\n",
    "found_vowels = [char for char in string if char in vowels]\n",
    "print(f\"The vowels present are: {', '.join(set(found_vowels))}\")\n"
   ]
  },
  {
   "cell_type": "code",
   "execution_count": 11,
   "id": "fe51c446-57f5-4934-85d7-11dbab7dbc08",
   "metadata": {},
   "outputs": [
    {
     "name": "stdin",
     "output_type": "stream",
     "text": [
      "Enter a name:  GUNDU KEERTHI\n"
     ]
    },
    {
     "name": "stdout",
     "output_type": "stream",
     "text": [
      "The number of vowels in the name is: 5\n"
     ]
    }
   ],
   "source": [
    "string = input(\"Enter a name: \")\n",
    "vowels = \"AEIOUaeiou\"\n",
    "count = 0\n",
    "for char in string:\n",
    "    if char in vowels:\n",
    "        count += 1 \n",
    "print(f\"The number of vowels in the name is: {count}\")\n"
   ]
  },
  {
   "cell_type": "code",
   "execution_count": null,
   "id": "8e2fb543-b2b8-478b-92d1-afbd320f51f0",
   "metadata": {},
   "outputs": [],
   "source": []
  }
 ],
 "metadata": {
  "kernelspec": {
   "display_name": "Python 3 (ipykernel)",
   "language": "python",
   "name": "python3"
  },
  "language_info": {
   "codemirror_mode": {
    "name": "ipython",
    "version": 3
   },
   "file_extension": ".py",
   "mimetype": "text/x-python",
   "name": "python",
   "nbconvert_exporter": "python",
   "pygments_lexer": "ipython3",
   "version": "3.12.4"
  }
 },
 "nbformat": 4,
 "nbformat_minor": 5
}
