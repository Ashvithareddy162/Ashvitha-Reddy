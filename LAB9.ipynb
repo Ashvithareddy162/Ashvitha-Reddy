{
 "cells": [
  {
   "cell_type": "code",
   "execution_count": 1,
   "id": "43566f1b-f244-41d7-9d0e-bec1dccc68e7",
   "metadata": {},
   "outputs": [
    {
     "name": "stdout",
     "output_type": "stream",
     "text": [
      "120\n"
     ]
    }
   ],
   "source": [
    "def factorial(n):\n",
    "    if n == 0 or n == 1:\n",
    "        return 1\n",
    "    else:\n",
    "        return n * factorial(n - 1)\n",
    "\n",
    "print(factorial(5))\n"
   ]
  },
  {
   "cell_type": "code",
   "execution_count": 7,
   "id": "f75800a8-362b-4775-aebd-291c70feaabe",
   "metadata": {},
   "outputs": [
    {
     "name": "stdout",
     "output_type": "stream",
     "text": [
      "8\n"
     ]
    }
   ],
   "source": [
    "def fibonacci(n):\n",
    "    if n<=1:\n",
    "        return n\n",
    "    return fibonacci(n-1)+fibonacci(n-2)\n",
    "\n",
    "print(fibonacci(6))"
   ]
  },
  {
   "cell_type": "code",
   "execution_count": 9,
   "id": "fd23b7cc-3626-4c14-b734-4eaf732ea088",
   "metadata": {},
   "outputs": [
    {
     "name": "stdout",
     "output_type": "stream",
     "text": [
      "15\n"
     ]
    }
   ],
   "source": [
    "def sum_natural(n):\n",
    "    if n==1:\n",
    "        return 1\n",
    "    return n+sum_natural(n-1)\n",
    "\n",
    "print(sum_natural(5))"
   ]
  },
  {
   "cell_type": "code",
   "execution_count": 19,
   "id": "c2671038-83c4-494e-81b2-43d58fcf9b09",
   "metadata": {},
   "outputs": [
    {
     "name": "stdout",
     "output_type": "stream",
     "text": [
      "True\n"
     ]
    }
   ],
   "source": [
    "def is_palindrome(s):\n",
    "    if len(s)<=1:\n",
    "        return True\n",
    "    if s[0]!=s[-1]:\n",
    "        return False\n",
    "    return is_palindrome(s[1:-1])\n",
    "\n",
    "print(is_palidrome('racecar'))"
   ]
  },
  {
   "cell_type": "code",
   "execution_count": 21,
   "id": "0433ac2e-3b53-4176-83a4-7b4f8784fe51",
   "metadata": {},
   "outputs": [
    {
     "name": "stdout",
     "output_type": "stream",
     "text": [
      "8\n"
     ]
    }
   ],
   "source": [
    "def power(x,y):\n",
    "    if y==0:\n",
    "        return 1\n",
    "    return x*power(x,y-1)\n",
    "\n",
    "print(power(2,3))"
   ]
  },
  {
   "cell_type": "code",
   "execution_count": 23,
   "id": "a287083d-bc2d-4e5f-8126-6c55a0abd790",
   "metadata": {},
   "outputs": [
    {
     "name": "stdout",
     "output_type": "stream",
     "text": [
      "6\n"
     ]
    }
   ],
   "source": [
    "def gcd(a,b):\n",
    "    if b==0:\n",
    "        return a\n",
    "    return gcd(b,a%b)\n",
    "print(gcd(48,18))"
   ]
  },
  {
   "cell_type": "code",
   "execution_count": 35,
   "id": "0ca2347b-fdc8-4b1e-8189-7f6f2fda7136",
   "metadata": {},
   "outputs": [
    {
     "name": "stdout",
     "output_type": "stream",
     "text": [
      " 1010\n"
     ]
    }
   ],
   "source": [
    "def decimal_to_binary(n):\n",
    "    if n == 0:\n",
    "        return \" \"\n",
    "    return decimal_to_binary(n // 2) + str(n % 2)\n",
    "    \n",
    "print(decimal_to_binary(10))\n"
   ]
  },
  {
   "cell_type": "code",
   "execution_count": 37,
   "id": "d6f53dbb-a92b-4fe9-84f2-3b566f2b7988",
   "metadata": {},
   "outputs": [
    {
     "name": "stdout",
     "output_type": "stream",
     "text": [
      "olleh\n"
     ]
    }
   ],
   "source": [
    "def reverse_string(s):\n",
    "    if len(s)==0:\n",
    "        return \"\"\n",
    "    return s[-1]+reverse_string(s[:-1])\n",
    "\n",
    "print(reverse_string(\"hello\"))\n"
   ]
  },
  {
   "cell_type": "code",
   "execution_count": 39,
   "id": "05d9f9c1-6249-48bf-be7b-5120a86f0b1f",
   "metadata": {},
   "outputs": [
    {
     "name": "stdout",
     "output_type": "stream",
     "text": [
      "6\n"
     ]
    }
   ],
   "source": [
    "def sum_of_digits(n):\n",
    "    if n==0:\n",
    "        return 0\n",
    "    return n%10+sum_of_digits(n//10)\n",
    "\n",
    "print(sum_of_digits(123))"
   ]
  },
  {
   "cell_type": "code",
   "execution_count": 43,
   "id": "8f3f55de-7558-4b4a-8a0b-46498337fc63",
   "metadata": {},
   "outputs": [
    {
     "name": "stdout",
     "output_type": "stream",
     "text": [
      "24\n"
     ]
    }
   ],
   "source": [
    "def product_of_array(arr, n):\n",
    "    if n == 0:\n",
    "        return arr[0]\n",
    "    return arr[n] * product_of_array(arr, n - 1)\n",
    "\n",
    "print(product_of_array([1, 2, 3, 4], 3))\n"
   ]
  },
  {
   "cell_type": "code",
   "execution_count": 45,
   "id": "5ff38fea-831f-478b-a6a2-bb987c1c6788",
   "metadata": {},
   "outputs": [
    {
     "name": "stdout",
     "output_type": "stream",
     "text": [
      "True\n"
     ]
    }
   ],
   "source": [
    "def is_sorted(arr,n):\n",
    "    if n==1:\n",
    "        return True\n",
    "    return arr[n-1]>=arr[n-2] and is_sorted(arr,n-1)\n",
    "\n",
    "print(is_sorted([1,2,3,4],4))"
   ]
  },
  {
   "cell_type": "code",
   "execution_count": 51,
   "id": "f34c8ba7-8eb1-45a1-9cc8-89be4262de90",
   "metadata": {},
   "outputs": [
    {
     "name": "stdout",
     "output_type": "stream",
     "text": [
      "[[], [3], [2], [2, 3], [1], [1, 3], [1, 2], [1, 2, 3]]\n"
     ]
    }
   ],
   "source": [
    "def subsets(s):\n",
    "    if len(s)==0:\n",
    "        return[[]]\n",
    "    smaller_subsets=subsets(s[1:])\n",
    "    return smaller_subsets+[[s[0]]+ss for ss in smaller_subsets]\n",
    "\n",
    "print(subsets([1,2,3]))"
   ]
  },
  {
   "cell_type": "code",
   "execution_count": 6,
   "id": "94658d2c-8266-4804-91b9-c88428696186",
   "metadata": {},
   "outputs": [
    {
     "name": "stdout",
     "output_type": "stream",
     "text": [
      "Move disk 1 from A to C\n",
      "Move disk 2 from A to B\n",
      "Move disk 1 from C to B\n",
      "Move disk 3 from A to C\n",
      "Move disk 1 from B to A\n",
      "Move disk 2 from B to C\n",
      "Move disk 1 from A to C\n"
     ]
    }
   ],
   "source": [
    "def tower_of_hanoi(n, source, target, auxiliary):\n",
    "    if n == 1:\n",
    "        print(f\"Move disk 1 from {source} to {target}\")\n",
    "        return\n",
    "    tower_of_hanoi(n-1, source, auxiliary, target)\n",
    "    print(f\"Move disk {n} from {source} to {target}\")\n",
    "    tower_of_hanoi(n-1, auxiliary, target, source)\n",
    "\n",
    "\n",
    "tower_of_hanoi(3, 'A', 'C', 'B')\n"
   ]
  },
  {
   "cell_type": "code",
   "execution_count": 8,
   "id": "d469f36e-826a-49ee-a88e-cbd629ab7aff",
   "metadata": {},
   "outputs": [
    {
     "name": "stdout",
     "output_type": "stream",
     "text": [
      "5\n"
     ]
    }
   ],
   "source": [
    "def count_ways(n):\n",
    "    if n <= 1:\n",
    "        return 1\n",
    "    return count_ways(n - 1) + count_ways(n - 2)\n",
    "print(count_ways(4))\n"
   ]
  },
  {
   "cell_type": "code",
   "execution_count": 12,
   "id": "a1093986-c42e-47df-afc2-f491f8f006a2",
   "metadata": {},
   "outputs": [
    {
     "name": "stdout",
     "output_type": "stream",
     "text": [
      "abc\n",
      "acb\n",
      "bac\n",
      "bca\n",
      "cab\n",
      "cba\n"
     ]
    }
   ],
   "source": [
    "def permutations(s, chosen=\"\"):\n",
    "    if len(s)==0:\n",
    "        print(chosen)\n",
    "    else:\n",
    "        for i in range(len(s)):\n",
    "            c = s[i] \n",
    "            remaining = s[:i] + s[i+1:]\n",
    "            permutations(remaining, chosen + c)\n",
    "permutations(\"abc\")\n"
   ]
  },
  {
   "cell_type": "code",
   "execution_count": 14,
   "id": "897319b6-4eef-4ed7-95df-abb1b58d2be1",
   "metadata": {},
   "outputs": [
    {
     "name": "stdout",
     "output_type": "stream",
     "text": [
      "15\n"
     ]
    }
   ],
   "source": [
    "def triangular_number(n):\n",
    "    if n==1:\n",
    "        return 1\n",
    "    return n + triangular_number(n - 1)\n",
    "\n",
    "print(triangular_number(5))\n"
   ]
  },
  {
   "cell_type": "code",
   "execution_count": 16,
   "id": "5cc1938c-e8dd-4894-832a-f7a779bf0e00",
   "metadata": {},
   "outputs": [
    {
     "name": "stdout",
     "output_type": "stream",
     "text": [
      "10\n"
     ]
    }
   ],
   "source": [
    "def list_sum(lst):\n",
    "    if not lst:\n",
    "        return 0\n",
    "    return lst[0]+list_sum(lst[1:])\n",
    "\n",
    "print(list_sum([1, 2, 3, 4]))\n"
   ]
  },
  {
   "cell_type": "code",
   "execution_count": 18,
   "id": "9fcec2d9-d382-4391-aa57-226731b10dfa",
   "metadata": {},
   "outputs": [
    {
     "name": "stdout",
     "output_type": "stream",
     "text": [
      "10\n"
     ]
    }
   ],
   "source": [
    "def binomial_coefficient(n, k):\n",
    "    if k==0 or k==n:\n",
    "        return 1\n",
    "    return binomial_coefficient(n-1,k - 1)+binomial_coefficient(n-1,k)\n",
    "\n",
    "print(binomial_coefficient(5, 2))\n"
   ]
  },
  {
   "cell_type": "code",
   "execution_count": null,
   "id": "ff310c78-e099-4b71-b009-a619ef8e7ff6",
   "metadata": {},
   "outputs": [],
   "source": []
  }
 ],
 "metadata": {
  "kernelspec": {
   "display_name": "Python 3 (ipykernel)",
   "language": "python",
   "name": "python3"
  },
  "language_info": {
   "codemirror_mode": {
    "name": "ipython",
    "version": 3
   },
   "file_extension": ".py",
   "mimetype": "text/x-python",
   "name": "python",
   "nbconvert_exporter": "python",
   "pygments_lexer": "ipython3",
   "version": "3.12.4"
  }
 },
 "nbformat": 4,
 "nbformat_minor": 5
}
