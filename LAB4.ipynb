{
 "cells": [
  {
   "cell_type": "code",
   "execution_count": 1,
   "id": "f132e732-4717-49cc-99f9-14addf67d0d8",
   "metadata": {},
   "outputs": [
    {
     "name": "stdin",
     "output_type": "stream",
     "text": [
      "Enter the first number:  23\n",
      "Enter the second number:  33\n",
      "Enter the third number:  98\n"
     ]
    },
    {
     "name": "stdout",
     "output_type": "stream",
     "text": [
      "The largest number is: 98.0\n"
     ]
    }
   ],
   "source": [
    "\n",
    "num1=float(input(\"Enter the first number: \"))\n",
    "num2=float(input(\"Enter the second number: \"))\n",
    "num3=float(input(\"Enter the third number: \"))\n",
    "if num1>num2:\n",
    "    if num1>num3:\n",
    "        print(\"The largest number is:\", num1)\n",
    "    else:\n",
    "        print(\"The largest number is:\", num3)\n",
    "else:\n",
    "    if num2>num3:\n",
    "        print(\"The largest number is:\", num2)\n",
    "    else:\n",
    "        print(\"The largest number is:\", num3)\n"
   ]
  },
  {
   "cell_type": "code",
   "execution_count": 3,
   "id": "1b1c44b6-7ec0-44b9-aabe-0156415b7341",
   "metadata": {},
   "outputs": [
    {
     "name": "stdin",
     "output_type": "stream",
     "text": [
      "Enter a positive integer value for N:  34\n"
     ]
    },
    {
     "name": "stdout",
     "output_type": "stream",
     "text": [
      "2\n",
      "4\n",
      "6\n",
      "8\n",
      "10\n",
      "12\n",
      "14\n",
      "16\n",
      "18\n",
      "20\n",
      "22\n",
      "24\n",
      "26\n",
      "28\n",
      "30\n",
      "32\n"
     ]
    }
   ],
   "source": [
    "n=int(input(\"Enter a positive integer value for N: \"))\n",
    "i=2\n",
    "while i<n:\n",
    "    if i%2==0:\n",
    "        print(i)\n",
    "    i+=1\n"
   ]
  },
  {
   "cell_type": "code",
   "execution_count": 5,
   "id": "6cfe28b1-b382-4e1f-aca9-ce66a30d91a6",
   "metadata": {},
   "outputs": [
    {
     "name": "stdin",
     "output_type": "stream",
     "text": [
      "Enter a positive integer value for N:  89\n"
     ]
    },
    {
     "name": "stdout",
     "output_type": "stream",
     "text": [
      "3\n",
      "5\n",
      "7\n",
      "9\n",
      "11\n",
      "13\n",
      "15\n",
      "17\n",
      "19\n",
      "21\n",
      "23\n",
      "25\n",
      "27\n",
      "29\n",
      "31\n",
      "33\n",
      "35\n",
      "37\n",
      "39\n",
      "41\n",
      "43\n",
      "45\n",
      "47\n",
      "49\n",
      "51\n",
      "53\n",
      "55\n",
      "57\n",
      "59\n",
      "61\n",
      "63\n",
      "65\n",
      "67\n",
      "69\n",
      "71\n",
      "73\n",
      "75\n",
      "77\n",
      "79\n",
      "81\n",
      "83\n",
      "85\n",
      "87\n"
     ]
    }
   ],
   "source": [
    "\n",
    "n=int(input(\"Enter a positive integer value for N: \"))\n",
    "i=2\n",
    "while i<n:\n",
    "    if i%2==1:\n",
    "        print(i)\n",
    "    i+=1\n"
   ]
  },
  {
   "cell_type": "code",
   "execution_count": 7,
   "id": "4ee865df-9265-48ab-a2d4-3e3eef808215",
   "metadata": {},
   "outputs": [
    {
     "name": "stdin",
     "output_type": "stream",
     "text": [
      "Enter the value of N:  67\n"
     ]
    },
    {
     "name": "stdout",
     "output_type": "stream",
     "text": [
      "The sum of the series 1+2+...+N is: 2278\n"
     ]
    }
   ],
   "source": [
    "n=int(input(\"Enter the value of N: \"))\n",
    "i=1\n",
    "sum=0\n",
    "while i<=n:\n",
    "    sum+=i\n",
    "    i+=1\n",
    "print(\"The sum of the series 1+2+...+N is:\", sum)\n"
   ]
  },
  {
   "cell_type": "code",
   "execution_count": 9,
   "id": "d3edc885-0d16-4163-ab0c-e73a7c65cfa1",
   "metadata": {},
   "outputs": [
    {
     "name": "stdin",
     "output_type": "stream",
     "text": [
      "Enter the value of N (positive odd integer):  567\n"
     ]
    },
    {
     "name": "stdout",
     "output_type": "stream",
     "text": [
      "The sum of the series 1+3+5+...+N is: 80656\n"
     ]
    }
   ],
   "source": [
    "n=int(input(\"Enter the value of N (positive odd integer): \"))\n",
    "i=1\n",
    "sum=0\n",
    "while i<=n:\n",
    "    sum+=i\n",
    "    i+=2\n",
    "print(\"The sum of the series 1+3+5+...+N is:\", sum)\n"
   ]
  },
  {
   "cell_type": "code",
   "execution_count": 11,
   "id": "6ddcaa21-6cf2-4419-a0a3-61c4875e15bc",
   "metadata": {},
   "outputs": [
    {
     "name": "stdin",
     "output_type": "stream",
     "text": [
      "Enter the value of N:  67\n",
      "Enter the value of X:  45\n"
     ]
    },
    {
     "name": "stdout",
     "output_type": "stream",
     "text": [
      "The sum of the series 1-X+X^2-X^3...X^N is: -569761507020752346759851405551536106801942912379819511047829693666348366548130252463915499190435461376024329144\n"
     ]
    }
   ],
   "source": [
    "n=int(input(\"Enter the value of N: \"))\n",
    "x=int(input(\"Enter the value of X: \"))\n",
    "i=0\n",
    "sum=0\n",
    "term=1\n",
    "while i<=n:\n",
    "    sum+=term\n",
    "    term=-term *x\n",
    "    i+=1\n",
    "print(\"The sum of the series 1-X+X^2-X^3...X^N is:\", sum)\n"
   ]
  },
  {
   "cell_type": "code",
   "execution_count": 13,
   "id": "14858be6-047d-41ff-8609-e0182bbbcd9f",
   "metadata": {},
   "outputs": [
    {
     "name": "stdin",
     "output_type": "stream",
     "text": [
      "Enter the value of N:  7\n",
      "Enter the value of X:  4\n"
     ]
    },
    {
     "name": "stdout",
     "output_type": "stream",
     "text": [
      "The sum of the series 1-2X+3X^2-4X^3...NX^(N-1) is: 23593.0\n"
     ]
    }
   ],
   "source": [
    "n=int(input(\"Enter the value of N: \"))\n",
    "x=float(input(\"Enter the value of X: \"))\n",
    "i=1\n",
    "sum=0\n",
    "while i<=n:\n",
    "    term=i*x**(i-1)*(-1)**(i-1)\n",
    "    sum+=term\n",
    "    i+=1\n",
    "print(\"The sum of the series 1-2X+3X^2-4X^3...NX^(N-1) is:\", sum)\n"
   ]
  },
  {
   "cell_type": "code",
   "execution_count": 15,
   "id": "66184e2a-dfd7-45fb-8198-13f3b7f79c04",
   "metadata": {},
   "outputs": [
    {
     "name": "stdin",
     "output_type": "stream",
     "text": [
      "Enter the first number A:  34\n",
      "Enter the second number B:  2\n"
     ]
    },
    {
     "name": "stdout",
     "output_type": "stream",
     "text": [
      "GCD of 34 and 2 is: 2\n",
      "LCM of 34 and 2 is: 68\n"
     ]
    }
   ],
   "source": [
    "a=int(input(\"Enter the first number A: \"))\n",
    "b=int(input(\"Enter the second number B: \"))\n",
    "if a>b:\n",
    "    n=a\n",
    "    d=b\n",
    "else:\n",
    "    n=b\n",
    "    d=a\n",
    "r=n%d\n",
    "while r!=0:\n",
    "    n=d\n",
    "    d=r\n",
    "    r=n%d\n",
    "gcd=d\n",
    "lcm=(a*b)\n",
    "print(f\"GCD of {a} and {b} is: {gcd}\")\n",
    "print(f\"LCM of {a} and {b} is: {lcm}\")\n"
   ]
  },
  {
   "cell_type": "code",
   "execution_count": null,
   "id": "57d8db73-55b8-40e3-a362-b175a9a8c885",
   "metadata": {},
   "outputs": [],
   "source": []
  }
 ],
 "metadata": {
  "kernelspec": {
   "display_name": "Python 3 (ipykernel)",
   "language": "python",
   "name": "python3"
  },
  "language_info": {
   "codemirror_mode": {
    "name": "ipython",
    "version": 3
   },
   "file_extension": ".py",
   "mimetype": "text/x-python",
   "name": "python",
   "nbconvert_exporter": "python",
   "pygments_lexer": "ipython3",
   "version": "3.12.4"
  }
 },
 "nbformat": 4,
 "nbformat_minor": 5
}
