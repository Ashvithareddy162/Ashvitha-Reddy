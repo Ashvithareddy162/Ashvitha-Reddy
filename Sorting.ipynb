{
 "cells": [
  {
   "cell_type": "code",
   "execution_count": 3,
   "id": "0edb3ffc-4eda-42d5-ade7-ac6f7cf79494",
   "metadata": {},
   "outputs": [
    {
     "name": "stdout",
     "output_type": "stream",
     "text": [
      "not found\n"
     ]
    }
   ],
   "source": [
    "pos = -1\n",
    "\n",
    "def search(lst, n):\n",
    "    i = 0\n",
    "    while i < len(lst):\n",
    "        if lst[i] == n:\n",
    "            globals()['pos'] = i  # Updates the global pos\n",
    "            return True\n",
    "        i += 1\n",
    "    return False\n",
    "\n",
    "lst = [5, 8, 4, 6, 9, 2]\n",
    "n = 10\n",
    "\n",
    "if search(lst, n):\n",
    "    print(\"found at position\", pos + 1)\n",
    "else:\n",
    "    print(\"not found\")"
   ]
  },
  {
   "cell_type": "code",
   "execution_count": 5,
   "id": "5f63b379-d6f6-4197-b254-c622a7eca64e",
   "metadata": {},
   "outputs": [
    {
     "name": "stdout",
     "output_type": "stream",
     "text": [
      "found at 4\n"
     ]
    }
   ],
   "source": [
    "pos=-1\n",
    "def search(list,n):\n",
    "    i=0\n",
    "    while i<len(list):\n",
    "        globals()[\"pos\"]=i\n",
    "        if list[i]==n:\n",
    "            return True\n",
    "        i=i+1        \n",
    "    else:\n",
    "        return False\n",
    "list=[1,2,3,4,5]\n",
    "n=4\n",
    "if search(list,n):\n",
    "    print(\"found at\",pos+1)\n",
    "else:\n",
    "    print(\"not found\")"
   ]
  },
  {
   "cell_type": "code",
   "execution_count": 7,
   "id": "a35d5690-4391-4af1-99f2-5413d71f6cd7",
   "metadata": {},
   "outputs": [
    {
     "name": "stdout",
     "output_type": "stream",
     "text": [
      "Element fount at index: 2\n"
     ]
    }
   ],
   "source": [
    "def linear_Search(list1, n, key):\n",
    "    for i in range(0, n):\n",
    "        if(list[i] == key):\n",
    "            return i\n",
    "    return -1\n",
    "list1 = [1, 3, 5, 4, 7, 9]\n",
    "key = 3\n",
    "n = len(list1)\n",
    "res = linear_Search(list1, n, key)\n",
    "if (res == -1):\n",
    "    print(\" Element not found\")\n",
    "else:\n",
    "    print(\"Element fount at index:\" , res)"
   ]
  },
  {
   "cell_type": "code",
   "execution_count": 9,
   "id": "4b63fd30-51ad-4dfa-8297-536fcdd22638",
   "metadata": {},
   "outputs": [
    {
     "name": "stdout",
     "output_type": "stream",
     "text": [
      "found: 1\n"
     ]
    }
   ],
   "source": [
    "def binary_search(arr,high,low,x):\n",
    "    if high>=low:\n",
    "        mid =(high+low)//2\n",
    "        if arr[mid]==x:\n",
    "            return mid\n",
    "        elif arr[mid]>=x:\n",
    "            return binary_search(arr,mid-1,low,x)\n",
    "        elif arr[mid]<=x:\n",
    "            return binary_search(arr,high,mid+1,x)\n",
    "        else:\n",
    "            return -1\n",
    "arr=[2,3,4,5,6]\n",
    "x=3\n",
    "res=binary_search(arr,len(arr)-1,0,x)\n",
    "if (res==-1):\n",
    "    print(\"not found\")\n",
    "else:\n",
    "    print(\"found:\",res)"
   ]
  },
  {
   "cell_type": "code",
   "execution_count": 11,
   "id": "6d07c077-613d-4f61-949d-fc2a6dcfc279",
   "metadata": {},
   "outputs": [
    {
     "name": "stdout",
     "output_type": "stream",
     "text": [
      "found: None\n"
     ]
    }
   ],
   "source": [
    "def binary_search(arr,high,low,x):\n",
    "    while high>=low:\n",
    "        mid=(high+low)//2\n",
    "        if arr[mid]==x:\n",
    "            return mid\n",
    "        elif arr[mid]>x:\n",
    "            return binary_search(arr,mid-1,low,x)\n",
    "        elif arr[mid]<x:\n",
    "            return binary_search(arr,high,mid+1,x)\n",
    "        else:\n",
    "            return -1\n",
    "arr=[2,5,7,8,6]\n",
    "x=0\n",
    "res=binary_search(arr,len(arr)-1,0,x)\n",
    "if (res==-1):\n",
    "    print(\"not\")\n",
    "else:\n",
    "    print(\"found:\",res)"
   ]
  },
  {
   "cell_type": "code",
   "execution_count": 17,
   "id": "316ac22a-dea7-4041-930d-bbbcf5dfdc4b",
   "metadata": {},
   "outputs": [
    {
     "name": "stdout",
     "output_type": "stream",
     "text": [
      "the sorted: [10, 20, 30, 40, 50]\n",
      "element: 3\n"
     ]
    }
   ],
   "source": [
    "def insert_sort_linear(arr,key):\n",
    "    for i in range(1,len(arr)):\n",
    "        a=arr[i]\n",
    "        j=i-1\n",
    "        while j>=0 and a<arr[j]:\n",
    "            arr[j+1]=arr[j]\n",
    "            j-=1\n",
    "        arr[j+1]=a\n",
    "        pos=-1\n",
    "        for i in range(i+1):\n",
    "            if (arr[i]==key):\n",
    "                return i\n",
    "arr=[40,10,20,50,30]\n",
    "insert_sort_linear(arr,30)\n",
    "print(\"the sorted:\",arr)\n",
    "print(\"element:\",pos)"
   ]
  },
  {
   "cell_type": "code",
   "execution_count": null,
   "id": "cff325ba-4f7d-42e8-a8fa-3bc6b114277c",
   "metadata": {},
   "outputs": [],
   "source": []
  }
 ],
 "metadata": {
  "kernelspec": {
   "display_name": "Python 3 (ipykernel)",
   "language": "python",
   "name": "python3"
  },
  "language_info": {
   "codemirror_mode": {
    "name": "ipython",
    "version": 3
   },
   "file_extension": ".py",
   "mimetype": "text/x-python",
   "name": "python",
   "nbconvert_exporter": "python",
   "pygments_lexer": "ipython3",
   "version": "3.12.4"
  }
 },
 "nbformat": 4,
 "nbformat_minor": 5
}
